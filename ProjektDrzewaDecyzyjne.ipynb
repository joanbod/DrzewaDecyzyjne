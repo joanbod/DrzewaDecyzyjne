{
 "cells": [
  {
   "attachments": {},
   "cell_type": "markdown",
   "metadata": {},
   "source": [
    "## Drzewa decyzyjne\n",
    "### Joanna Bodora, Aleksandra Jenda\n",
    "#### Python w analizie danych"
   ]
  },
  {
   "attachments": {},
   "cell_type": "markdown",
   "metadata": {},
   "source": [
    "### Algorytm działania drzewa decyzyjnego"
   ]
  },
  {
   "attachments": {},
   "cell_type": "markdown",
   "metadata": {},
   "source": [
    "### Przykład zastosowania drzewa decyzyjnego w praktyce\n",
    "W celu zastosowania algorytmu drzewa decyzyjnego w notebooku jupytera wykorzystamy bibliotekę `scikit-learn`. Instalujemy ją wykorzytsując poniższe polecenia w zależności od wykorzystywanego środowiska.  \n",
    "  \n",
    "----\n",
    "VS Code:\n",
    "\n",
    "`pip install -U scikit-learn`  \n",
    "  \n",
    "Conda:  \n",
    "\n",
    "`conda install scikit-learn`"
   ]
  },
  {
   "cell_type": "markdown",
   "metadata": {},
   "source": []
  },
  {
   "cell_type": "code",
   "execution_count": null,
   "metadata": {
    "vscode": {
     "languageId": "plaintext"
    }
   },
   "outputs": [],
   "source": []
  },
  {
   "attachments": {},
   "cell_type": "markdown",
   "metadata": {},
   "source": [
    "#### Literatura:\n",
    "- https://www.geeksforgeeks.org/decision-tree-implementation-python/ (Dostęp: 06-01-2023)\n",
    "- https://www.geeksforgeeks.org/python-decision-tree-regression-using-sklearn/?ref=rp (Dostęp: 06-01-2023)\n",
    "- https://www.datacamp.com/tutorial/decision-tree-classification-python (Dostęp: 06-01-2023)\n",
    "- https://www.mimuw.edu.pl/~son/datamining/materials/w6_DT.pdf (Dostęp: 06-01-2023)\n",
    "- https://scikit-learn.org/stable/modules/tree.html (Dostęp: 06-01-2023)\n",
    "- https://www.w3schools.com/python/python_ml_decision_tree.asp (Dostęp: 06-01-2023)"
   ]
  },
  {
   "cell_type": "markdown",
   "metadata": {},
   "source": []
  }
 ],
 "metadata": {
  "language_info": {
   "name": "python"
  },
  "orig_nbformat": 4
 },
 "nbformat": 4,
 "nbformat_minor": 2
}
